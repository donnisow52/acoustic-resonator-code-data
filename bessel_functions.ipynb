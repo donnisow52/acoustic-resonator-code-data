{
 "cells": [
  {
   "cell_type": "code",
   "execution_count": 2,
   "id": "f0bbc69e",
   "metadata": {},
   "outputs": [
    {
     "name": "stdout",
     "output_type": "stream",
     "text": [
      "[ 3.83170604  7.01558671 10.17346816 13.32369196 16.47063007 19.61585852]\n",
      "[ 1.8411838   5.33144282  8.5363164  11.70600492 14.86358865 18.01552788]\n",
      "[ 3.05423689  6.70613322  9.96946785 13.17037088 16.34752234 19.51291279]\n",
      "[ 4.20118888  8.01523662 11.34592433 14.5858483  17.78874788]\n",
      "[ 5.31755304  9.2823963  12.68190846 15.96410705 19.19602881]\n"
     ]
    }
   ],
   "source": [
    "import numpy as np\n",
    "import scipy as spy\n",
    "from scipy.special import jv\n",
    "import numpy as np\n",
    "from scipy.optimize import minimize_scalar, minimize\n",
    "from scipy.optimize import brentq\n",
    "from scipy.interpolate import interp1d\n",
    "\n",
    "# define the x value (in our case 0 t0 20 is sufficient)\n",
    "step = 0.001\n",
    "x = np.arange(0,20,step)\n",
    "m = [0, 1, 2, 3,4]\n",
    "y = np.array([])\n",
    "for i in m:\n",
    "    y = np.append(y, jv(i, x))\n",
    "# jv(v, x) is the Bessel function of the v-th order.\n",
    "\n",
    "# Now we calculate the derivative j’(v, x)\n",
    "J = y.reshape(len(m), x.size)\n",
    "dJdx = np.array([])\n",
    "for row in J:\n",
    "    dJdx = np.append(dJdx, np.gradient(row, x))\n",
    "dJdx = dJdx.reshape(len(m), x.size)\n",
    "\n",
    "# find the roots\n",
    "def roots(x, y):\n",
    "    f = interp1d(x, y, kind='linear', fill_value='extrapolate', assume_sorted=True)\n",
    "    s = np.signbit(y)\n",
    "    idx = np.flatnonzero(s[1:] != s[:-1])\n",
    "    r = [brentq(f, x[i], x[i + 1]) for i in idx]\n",
    "    exact = np.array([])\n",
    "    return np.sort(np.unique(np.concatenate([exact, np.array(r)])))\n",
    "\n",
    "for i in range(0,5):\n",
    "    print(roots(x, dJdx[i]))\n"
   ]
  },
  {
   "cell_type": "markdown",
   "id": "81574e79",
   "metadata": {},
   "source": []
  },
  {
   "cell_type": "code",
   "execution_count": null,
   "id": "2226a3a5",
   "metadata": {},
   "outputs": [],
   "source": []
  }
 ],
 "metadata": {
  "kernelspec": {
   "display_name": "Python 3",
   "language": "python",
   "name": "python3"
  },
  "language_info": {
   "codemirror_mode": {
    "name": "ipython",
    "version": 3
   },
   "file_extension": ".py",
   "mimetype": "text/x-python",
   "name": "python",
   "nbconvert_exporter": "python",
   "pygments_lexer": "ipython3",
   "version": "3.13.7"
  }
 },
 "nbformat": 4,
 "nbformat_minor": 5
}
